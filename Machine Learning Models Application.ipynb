{
 "cells": [
  {
   "cell_type": "code",
   "execution_count": 1,
   "id": "f33cb27c",
   "metadata": {},
   "outputs": [],
   "source": [
    "import numpy as np\n",
    "import matplotlib.pyplot as plt\n",
    "import pandas as pd\n",
    "import seaborn as sns\n"
   ]
  },
  {
   "cell_type": "markdown",
   "id": "95887a1f",
   "metadata": {},
   "source": [
    "# Preparando os dados"
   ]
  },
  {
   "cell_type": "code",
   "execution_count": 2,
   "id": "d07d2352",
   "metadata": {},
   "outputs": [],
   "source": [
    "df = pd.read_csv('bank-additional/bank-additional/bank-additional-full.csv', delimiter=';')"
   ]
  },
  {
   "cell_type": "code",
   "execution_count": 3,
   "id": "deb2dda6",
   "metadata": {},
   "outputs": [],
   "source": [
    "df['y']=df['y'].map({'no': 0, 'yes':1})"
   ]
  },
  {
   "cell_type": "code",
   "execution_count": 4,
   "id": "721e54ba",
   "metadata": {},
   "outputs": [],
   "source": [
    "from sklearn.model_selection import train_test_split\n",
    "from sklearn.preprocessing import LabelEncoder"
   ]
  },
  {
   "cell_type": "code",
   "execution_count": 5,
   "id": "d34e3783",
   "metadata": {},
   "outputs": [],
   "source": [
    "encoder = LabelEncoder()\n",
    "categorical_columns = df.select_dtypes(include='object').columns\n",
    "for coluna  in categorical_columns:\n",
    "    df[coluna] = encoder.fit_transform(df[coluna])"
   ]
  },
  {
   "cell_type": "code",
   "execution_count": 6,
   "id": "4d8aac8e",
   "metadata": {},
   "outputs": [],
   "source": [
    "Y = df['y']\n",
    "X = df.drop(['y'],axis=1)"
   ]
  },
  {
   "cell_type": "code",
   "execution_count": 7,
   "id": "ef32bc82",
   "metadata": {},
   "outputs": [],
   "source": [
    "#Dividindo os dados em treino e teste\n",
    "X_train, X_test, y_train, y_test = train_test_split(X, Y, test_size=0.2, random_state=42)"
   ]
  },
  {
   "cell_type": "code",
   "execution_count": 8,
   "id": "37962f6f",
   "metadata": {},
   "outputs": [],
   "source": [
    "#redididnindo os dados de treino em treino e validação\n",
    "X_train, X_val, y_train, y_val = train_test_split(X_train, y_train, test_size=0.2, random_state=42)"
   ]
  },
  {
   "cell_type": "markdown",
   "id": "59612f5d",
   "metadata": {},
   "source": [
    "Por uma questão de simplicidade, resolvi utilizar o one hot-enconding. Vale lembrar das seguintes desvantagens de usar esse encoder :\n",
    "- Dimensionalidade elevada\n",
    "- Sparse representation\n",
    "- Over Coding\n",
    "- Não considera a ordem das categorias\n",
    "- Não é escalável\n"
   ]
  },
  {
   "cell_type": "markdown",
   "id": "34b868ab",
   "metadata": {},
   "source": [
    "# treinando os modelos de Machine learning"
   ]
  },
  {
   "cell_type": "code",
   "execution_count": 10,
   "id": "e0960582",
   "metadata": {},
   "outputs": [],
   "source": [
    "from sklearn.linear_model import LogisticRegression\n",
    "from sklearn.metrics import accuracy_score\n",
    "from sklearn.metrics import roc_curve\n"
   ]
  },
  {
   "cell_type": "code",
   "execution_count": 11,
   "id": "e2acea6d",
   "metadata": {},
   "outputs": [
    {
     "data": {
      "text/plain": [
       "LogisticRegression(max_iter=10000)"
      ]
     },
     "execution_count": 11,
     "metadata": {},
     "output_type": "execute_result"
    }
   ],
   "source": [
    "LogRegression =  LogisticRegression(max_iter=10000)\n",
    "LogRegression.fit(X_train,y_train)\n"
   ]
  },
  {
   "cell_type": "code",
   "execution_count": 12,
   "id": "57e22e61",
   "metadata": {},
   "outputs": [],
   "source": [
    "y_pred = LogRegression.predict(X_test)"
   ]
  },
  {
   "cell_type": "code",
   "execution_count": 13,
   "id": "35584ec9",
   "metadata": {},
   "outputs": [
    {
     "data": {
      "text/plain": [
       "0.910536537994659"
      ]
     },
     "execution_count": 13,
     "metadata": {},
     "output_type": "execute_result"
    }
   ],
   "source": [
    "# Para medir a precisão dos modelos vou utilizar a acuracia, pois como temos apenas duas classes. Acho que da conta do que é preciso\n",
    "accuracy_score(y_test,y_pred)\n"
   ]
  },
  {
   "cell_type": "code",
   "execution_count": 14,
   "id": "6a682230",
   "metadata": {},
   "outputs": [],
   "source": [
    "from sklearn.ensemble import RandomForestClassifier\n"
   ]
  },
  {
   "cell_type": "code",
   "execution_count": 15,
   "id": "7b0e8e5b",
   "metadata": {},
   "outputs": [
    {
     "data": {
      "text/plain": [
       "RandomForestClassifier()"
      ]
     },
     "execution_count": 15,
     "metadata": {},
     "output_type": "execute_result"
    }
   ],
   "source": [
    "RandomForestClassifier =  RandomForestClassifier()\n",
    "RandomForestClassifier.fit(X_train,y_train)"
   ]
  },
  {
   "cell_type": "code",
   "execution_count": 16,
   "id": "51d55b8f",
   "metadata": {},
   "outputs": [],
   "source": [
    "y_pred_random = LogRegression.predict(X_test)"
   ]
  },
  {
   "cell_type": "code",
   "execution_count": 17,
   "id": "d6d6fbd7",
   "metadata": {},
   "outputs": [
    {
     "data": {
      "text/plain": [
       "0.910536537994659"
      ]
     },
     "execution_count": 17,
     "metadata": {},
     "output_type": "execute_result"
    }
   ],
   "source": [
    "accuracy_score(y_test,y_pred_random)"
   ]
  },
  {
   "cell_type": "code",
   "execution_count": 21,
   "id": "b749212e",
   "metadata": {},
   "outputs": [
    {
     "data": {
      "text/plain": [
       "['model.pkl']"
      ]
     },
     "execution_count": 21,
     "metadata": {},
     "output_type": "execute_result"
    }
   ],
   "source": [
    "from joblib import dump, load\n",
    "dump(LogRegression, 'model.pkl')"
   ]
  },
  {
   "cell_type": "code",
   "execution_count": 22,
   "id": "7a232e27",
   "metadata": {},
   "outputs": [
    {
     "name": "stdout",
     "output_type": "stream",
     "text": [
      "'Analise Exploratoria.ipynb'\r\n",
      "'Aplicando algoritmos de Machine Learning.ipynb'\r\n",
      " Daily_Demand_Forecasting_Orders.csv\r\n",
      " Daily_Demand_Forecasting_Orders.csv:Zone.Identifier\r\n",
      "'Data Visualization.ipynb'\r\n",
      "'Machine Learning Models Application.ipynb'\r\n",
      " bank-additional\r\n",
      " bank-additional.zip\r\n",
      " bank-additional.zip:Zone.Identifier\r\n",
      " credit.names\r\n",
      " credit.names:Zone.Identifier\r\n",
      " crx.data\r\n",
      " crx.data:Zone.Identifier\r\n",
      " model.joblib\r\n",
      " model.pkl\r\n"
     ]
    }
   ],
   "source": [
    "!ls"
   ]
  },
  {
   "cell_type": "code",
   "execution_count": 23,
   "id": "92ba8b52",
   "metadata": {},
   "outputs": [],
   "source": [
    "model = load('model.pkl')"
   ]
  },
  {
   "cell_type": "code",
   "execution_count": 27,
   "id": "9c6718c7",
   "metadata": {},
   "outputs": [
    {
     "data": {
      "text/plain": [
       "array([0, 0, 0, ..., 0, 1, 0])"
      ]
     },
     "execution_count": 27,
     "metadata": {},
     "output_type": "execute_result"
    }
   ],
   "source": [
    "model.predict(X_test)"
   ]
  },
  {
   "cell_type": "code",
   "execution_count": 28,
   "id": "def294e1",
   "metadata": {},
   "outputs": [
    {
     "data": {
      "text/plain": [
       "array([[0.90488809, 0.09511191],\n",
       "       [0.97144756, 0.02855244],\n",
       "       [0.97957288, 0.02042712],\n",
       "       ...,\n",
       "       [0.95589281, 0.04410719],\n",
       "       [0.18731361, 0.81268639],\n",
       "       [0.97997953, 0.02002047]])"
      ]
     },
     "execution_count": 28,
     "metadata": {},
     "output_type": "execute_result"
    }
   ],
   "source": [
    "model.predict_proba(X_test)"
   ]
  },
  {
   "cell_type": "markdown",
   "id": "71a29ecf",
   "metadata": {},
   "source": [
    "# "
   ]
  }
 ],
 "metadata": {
  "kernelspec": {
   "display_name": "Python 3 (ipykernel)",
   "language": "python",
   "name": "python3"
  },
  "language_info": {
   "codemirror_mode": {
    "name": "ipython",
    "version": 3
   },
   "file_extension": ".py",
   "mimetype": "text/x-python",
   "name": "python",
   "nbconvert_exporter": "python",
   "pygments_lexer": "ipython3",
   "version": "3.9.13"
  }
 },
 "nbformat": 4,
 "nbformat_minor": 5
}
